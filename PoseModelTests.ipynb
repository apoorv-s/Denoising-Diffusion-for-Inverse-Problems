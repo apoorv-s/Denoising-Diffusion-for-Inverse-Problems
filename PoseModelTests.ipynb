{
 "cells": [
  {
   "cell_type": "code",
   "execution_count": null,
   "id": "48707d4d-1d74-4e23-98ac-dc5883caa5ac",
   "metadata": {},
   "outputs": [],
   "source": [
    "%load_ext autoreload\n",
    "%autoreload 2"
   ]
  },
  {
   "cell_type": "code",
   "execution_count": null,
   "id": "ac84deb9-a46c-4c1e-b44f-dadaad2f85c7",
   "metadata": {},
   "outputs": [],
   "source": [
    "import matplotlib.pyplot as plt\n",
    "from Core.Dataset import PoseModelDataset\n",
    "from Configs.Configs import PoseTransformersConfig\n",
    "from Core.DDPM import DDPM"
   ]
  },
  {
   "cell_type": "code",
   "execution_count": null,
   "id": "6d9528ef",
   "metadata": {},
   "outputs": [],
   "source": [
    "config = PoseTransformersConfig()\n",
    "dataset = PoseModelDataset(config)"
   ]
  },
  {
   "cell_type": "code",
   "execution_count": null,
   "id": "de78a6f9",
   "metadata": {},
   "outputs": [],
   "source": [
    "run_number = 1\n",
    "model_name = 'pose_transformer'\n",
    "\n",
    "model_dir = config.save_dir+\"/run\"+str(run_number)+\"/train\" + f\"/final_model_{499}.pt\"\n",
    "DDPM_obj = DDPM(model_name)\n",
    "DDPM_obj.load_pretrained_model(model_dir)\n",
    "\n",
    "test_sample = dataset[0]\n",
    "img = dataset.viz(test_sample['x'], test_sample)"
   ]
  },
  {
   "cell_type": "code",
   "execution_count": null,
   "id": "999f7d93",
   "metadata": {},
   "outputs": [],
   "source": [
    "target_y = test_sample['y'][0]\n",
    "result = DDPM_obj.sample(target_y, 8, 0.01) # n_sample 8 to ensure that the dataset shapes are matched\n",
    "\n",
    "x_T = result[0, :, :]\n",
    "x_T = x_T.cpu().detach()\n",
    "\n",
    "res_img = dataset.viz(x_T, test_sample)"
   ]
  },
  {
   "cell_type": "code",
   "execution_count": null,
   "id": "2ed75f6b",
   "metadata": {},
   "outputs": [],
   "source": [
    "fig, axs = plt.subplots(1, 4, figsize=(24, 6))\n",
    "\n",
    "# Display the reference image\n",
    "axs[0].imshow(img[0])\n",
    "axs[0].axis('off')  # Hide axes\n",
    "axs[0].set_title(\"Reference Image\")\n",
    "\n",
    "# Display the sampled images through DDPM\n",
    "axs[1].imshow(res_img[-1])\n",
    "axs[1].axis('off')  # Hide axes\n",
    "axs[1].set_title(\"Sampled through DDPM\")\n",
    "\n",
    "axs[2].imshow(res_img[-2])\n",
    "axs[2].axis('off')  # Hide axes\n",
    "axs[2].set_title(\"Sampled through DDPM\")\n",
    "\n",
    "axs[3].imshow(res_img[-3])\n",
    "axs[3].axis('off')  # Hide axes\n",
    "axs[3].set_title(\"Sampled through DDPM\")\n",
    "\n",
    "# Adjust the layout to be more compact\n",
    "plt.subplots_adjust(wspace=0.1, hspace=0)  # Adjust horizontal and vertical space\n",
    "plt.show()"
   ]
  },
  {
   "cell_type": "code",
   "execution_count": null,
   "id": "029c3ce7-0596-44ea-85a6-5abca1938a08",
   "metadata": {},
   "outputs": [],
   "source": []
  },
  {
   "cell_type": "code",
   "execution_count": null,
   "id": "a2d284dc-2e38-4824-99de-c9d072e85bd9",
   "metadata": {},
   "outputs": [],
   "source": []
  },
  {
   "cell_type": "code",
   "execution_count": null,
   "id": "5d349257-a942-4f43-ba8d-1361f04b74f3",
   "metadata": {},
   "outputs": [],
   "source": []
  },
  {
   "cell_type": "code",
   "execution_count": null,
   "id": "6a8b0e7c-6be6-4c8a-b6bf-410f04d6a0b0",
   "metadata": {},
   "outputs": [],
   "source": []
  },
  {
   "cell_type": "code",
   "execution_count": null,
   "id": "a8d6dec4-3f70-466f-879e-210bce591984",
   "metadata": {},
   "outputs": [],
   "source": []
  },
  {
   "cell_type": "code",
   "execution_count": null,
   "id": "f202caf1-0c27-4121-a4d3-03e7772bc358",
   "metadata": {},
   "outputs": [],
   "source": []
  },
  {
   "cell_type": "code",
   "execution_count": null,
   "id": "0550d8c2-e6f3-4e85-9673-4687b264baf3",
   "metadata": {},
   "outputs": [],
   "source": []
  }
 ],
 "metadata": {
  "kernelspec": {
   "display_name": "Python 3 (ipykernel)",
   "language": "python",
   "name": "python3"
  },
  "language_info": {
   "codemirror_mode": {
    "name": "ipython",
    "version": 3
   },
   "file_extension": ".py",
   "mimetype": "text/x-python",
   "name": "python",
   "nbconvert_exporter": "python",
   "pygments_lexer": "ipython3",
   "version": "3.9.19"
  }
 },
 "nbformat": 4,
 "nbformat_minor": 5
}
