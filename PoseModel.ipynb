{
 "cells": [
  {
   "cell_type": "code",
   "execution_count": 1,
   "id": "48707d4d-1d74-4e23-98ac-dc5883caa5ac",
   "metadata": {},
   "outputs": [],
   "source": [
    "%load_ext autoreload\n",
    "%autoreload 2"
   ]
  },
  {
   "cell_type": "code",
   "execution_count": 2,
   "id": "ac84deb9-a46c-4c1e-b44f-dadaad2f85c7",
   "metadata": {},
   "outputs": [],
   "source": [
    "import torch"
   ]
  },
  {
   "cell_type": "code",
   "execution_count": 68,
   "id": "c508b46d-bd34-4bb6-bf2a-9506ab62e643",
   "metadata": {},
   "outputs": [],
   "source": [
    "from Core.Dataset import PoseModelDataset\n",
    "from Configs.Configs import PoseMLPConfig, PoseTransformersConfig\n",
    "from Core.Utils import PoseTranformerDiffusion"
   ]
  },
  {
   "cell_type": "code",
   "execution_count": 33,
   "id": "85686a8e-d1a0-413b-9c8e-7d01813f6f0f",
   "metadata": {},
   "outputs": [],
   "source": [
    "config = PoseTransformersConfig()"
   ]
  },
  {
   "cell_type": "code",
   "execution_count": 38,
   "id": "46a82f4c-c4c4-421d-9652-97e79f30ca73",
   "metadata": {},
   "outputs": [],
   "source": [
    "transformer = Transformer(config)"
   ]
  },
  {
   "cell_type": "code",
   "execution_count": 5,
   "id": "ea262f16-68a1-4741-9c65-3ba07ab9b3ec",
   "metadata": {},
   "outputs": [
    {
     "name": "stdout",
     "output_type": "stream",
     "text": [
      "Number of sequences 14096\n"
     ]
    }
   ],
   "source": [
    "dataset = PoseModelDataset(config)"
   ]
  },
  {
   "cell_type": "code",
   "execution_count": 6,
   "id": "160ea5de-c918-4138-b24e-3f8a607cf753",
   "metadata": {},
   "outputs": [],
   "source": [
    "test_data = dataset[0]"
   ]
  },
  {
   "cell_type": "code",
   "execution_count": 9,
   "id": "d1eab1f1-0c77-4eda-9ad6-47a511eb018a",
   "metadata": {},
   "outputs": [],
   "source": [
    "test_2 = dataset.data_to_xy(test_data)"
   ]
  },
  {
   "cell_type": "code",
   "execution_count": 10,
   "id": "a44ab688-d404-4480-94e2-d6436b47061c",
   "metadata": {},
   "outputs": [
    {
     "data": {
      "text/plain": [
       "torch.Size([8, 50])"
      ]
     },
     "execution_count": 10,
     "metadata": {},
     "output_type": "execute_result"
    }
   ],
   "source": [
    "test_2[1].shape"
   ]
  },
  {
   "cell_type": "code",
   "execution_count": 7,
   "id": "dbac5d62-293a-467c-9a58-8791f11836ad",
   "metadata": {},
   "outputs": [
    {
     "data": {
      "text/plain": [
       "torch.Size([8, 50])"
      ]
     },
     "execution_count": 7,
     "metadata": {},
     "output_type": "execute_result"
    }
   ],
   "source": [
    "test_data['y'].shape"
   ]
  },
  {
   "cell_type": "code",
   "execution_count": 8,
   "id": "381e3a10-a01b-4604-bb32-1653cf6ee2d3",
   "metadata": {},
   "outputs": [
    {
     "data": {
      "text/plain": [
       "torch.Size([8, 144])"
      ]
     },
     "execution_count": 8,
     "metadata": {},
     "output_type": "execute_result"
    }
   ],
   "source": [
    "test_data['x'].shape"
   ]
  },
  {
   "cell_type": "code",
   "execution_count": 11,
   "id": "7b8ed908-24e3-43e8-a9c6-ca80520f818a",
   "metadata": {},
   "outputs": [],
   "source": [
    "a = torch.randn(3, 4, 4, 6)"
   ]
  },
  {
   "cell_type": "code",
   "execution_count": 17,
   "id": "c5068b3c-0504-4d1a-81fc-e49205c88c76",
   "metadata": {},
   "outputs": [],
   "source": [
    "temp = a.shape[:-1]"
   ]
  },
  {
   "cell_type": "code",
   "execution_count": 19,
   "id": "fce6cb84-f71a-4593-b147-9c53f434fe3c",
   "metadata": {},
   "outputs": [],
   "source": [
    "b = a.reshape(*temp, 2, 3)"
   ]
  },
  {
   "cell_type": "code",
   "execution_count": 18,
   "id": "fffe25db-1a0e-4c60-807d-7750bd8e8efb",
   "metadata": {},
   "outputs": [
    {
     "data": {
      "text/plain": [
       "torch.Size([3, 4, 4])"
      ]
     },
     "execution_count": 18,
     "metadata": {},
     "output_type": "execute_result"
    }
   ],
   "source": [
    "temp"
   ]
  },
  {
   "cell_type": "code",
   "execution_count": 26,
   "id": "d06d1d90-fd2e-49e9-8b4c-35318432d39a",
   "metadata": {},
   "outputs": [],
   "source": [
    "m = torch.nn.Softmax(dim=0)\n",
    "input = torch.randn(2, 3)\n",
    "output = m(input)"
   ]
  },
  {
   "cell_type": "code",
   "execution_count": 27,
   "id": "27fb0ba5-e458-4d56-9761-9fb44054ffef",
   "metadata": {},
   "outputs": [
    {
     "data": {
      "text/plain": [
       "torch.Size([2, 3])"
      ]
     },
     "execution_count": 27,
     "metadata": {},
     "output_type": "execute_result"
    }
   ],
   "source": [
    "output.shape"
   ]
  },
  {
   "cell_type": "code",
   "execution_count": 63,
   "id": "17ad0592-3856-452e-abbd-45d01d9b274b",
   "metadata": {},
   "outputs": [],
   "source": [
    "t = torch.ones(8)"
   ]
  },
  {
   "cell_type": "code",
   "execution_count": 69,
   "id": "d8814e4f-765c-4cf7-be33-a8646708bd06",
   "metadata": {},
   "outputs": [],
   "source": [
    "transformer = PoseTranformerDiffusion(config)"
   ]
  },
  {
   "cell_type": "code",
   "execution_count": 84,
   "id": "9abb2910-004a-428e-80f4-5d4cd9edfd21",
   "metadata": {},
   "outputs": [],
   "source": [
    "res = transformer(test_data['x'], test_data['y'], t, mode=\"train\")"
   ]
  },
  {
   "cell_type": "code",
   "execution_count": 41,
   "id": "47537450-c5be-495d-93c8-718d767f5b0f",
   "metadata": {},
   "outputs": [
    {
     "data": {
      "text/plain": [
       "torch.Size([8, 144])"
      ]
     },
     "execution_count": 41,
     "metadata": {},
     "output_type": "execute_result"
    }
   ],
   "source": [
    "test_data['x'].shape"
   ]
  },
  {
   "cell_type": "code",
   "execution_count": 71,
   "id": "923a2de6-6271-4fa6-9585-4e771cdfe24b",
   "metadata": {},
   "outputs": [],
   "source": [
    "y = torch.randn(8, 25, 256)"
   ]
  },
  {
   "cell_type": "code",
   "execution_count": 79,
   "id": "c5cbf2fe-a0e3-40ff-848c-1e2b41d6dcd2",
   "metadata": {},
   "outputs": [],
   "source": [
    "z = torch.bernoulli(torch.ones(8, 1, 1)-0.5)"
   ]
  },
  {
   "cell_type": "code",
   "execution_count": 85,
   "id": "05987b78-969d-49a6-a7ae-5719363ef1b9",
   "metadata": {},
   "outputs": [
    {
     "data": {
      "text/plain": [
       "torch.Size([8, 144])"
      ]
     },
     "execution_count": 85,
     "metadata": {},
     "output_type": "execute_result"
    }
   ],
   "source": [
    "res.shape"
   ]
  },
  {
   "cell_type": "code",
   "execution_count": null,
   "id": "6f9314dc-bc33-453f-9411-3ecd8c845f32",
   "metadata": {},
   "outputs": [],
   "source": []
  },
  {
   "cell_type": "code",
   "execution_count": null,
   "id": "5e383fda-c312-4623-8266-5303bc217fb1",
   "metadata": {},
   "outputs": [],
   "source": []
  },
  {
   "cell_type": "code",
   "execution_count": null,
   "id": "eef25f92-b72c-43bb-b995-abe8ff741a5f",
   "metadata": {},
   "outputs": [],
   "source": []
  }
 ],
 "metadata": {
  "kernelspec": {
   "display_name": "Python [conda env:diff]",
   "language": "python",
   "name": "conda-env-diff-py"
  },
  "language_info": {
   "codemirror_mode": {
    "name": "ipython",
    "version": 3
   },
   "file_extension": ".py",
   "mimetype": "text/x-python",
   "name": "python",
   "nbconvert_exporter": "python",
   "pygments_lexer": "ipython3",
   "version": "3.9.19"
  }
 },
 "nbformat": 4,
 "nbformat_minor": 5
}
