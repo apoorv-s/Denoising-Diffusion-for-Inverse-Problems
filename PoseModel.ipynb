{
 "cells": [
  {
   "cell_type": "code",
   "execution_count": 1,
   "id": "48707d4d-1d74-4e23-98ac-dc5883caa5ac",
   "metadata": {},
   "outputs": [],
   "source": [
    "%load_ext autoreload\n",
    "%autoreload 2"
   ]
  },
  {
   "cell_type": "code",
   "execution_count": 2,
   "id": "ac84deb9-a46c-4c1e-b44f-dadaad2f85c7",
   "metadata": {},
   "outputs": [],
   "source": [
    "import torch"
   ]
  },
  {
   "cell_type": "code",
   "execution_count": 3,
   "id": "c508b46d-bd34-4bb6-bf2a-9506ab62e643",
   "metadata": {},
   "outputs": [],
   "source": [
    "from Core.Dataset import PoseModelDataset\n",
    "from Configs.Configs import PoseMLPConfig"
   ]
  },
  {
   "cell_type": "code",
   "execution_count": 4,
   "id": "85686a8e-d1a0-413b-9c8e-7d01813f6f0f",
   "metadata": {},
   "outputs": [],
   "source": [
    "config = PoseMLPConfig()"
   ]
  },
  {
   "cell_type": "code",
   "execution_count": 5,
   "id": "ea262f16-68a1-4741-9c65-3ba07ab9b3ec",
   "metadata": {},
   "outputs": [
    {
     "name": "stdout",
     "output_type": "stream",
     "text": [
      "Number of sequences 14096\n"
     ]
    }
   ],
   "source": [
    "dataset = PoseModelDataset(config)"
   ]
  },
  {
   "cell_type": "code",
   "execution_count": 6,
   "id": "160ea5de-c918-4138-b24e-3f8a607cf753",
   "metadata": {},
   "outputs": [],
   "source": [
    "test_data = dataset[0]"
   ]
  },
  {
   "cell_type": "code",
   "execution_count": 9,
   "id": "d1eab1f1-0c77-4eda-9ad6-47a511eb018a",
   "metadata": {},
   "outputs": [],
   "source": [
    "test_2 = dataset.data_to_xy(test_data)"
   ]
  },
  {
   "cell_type": "code",
   "execution_count": 10,
   "id": "a44ab688-d404-4480-94e2-d6436b47061c",
   "metadata": {},
   "outputs": [
    {
     "data": {
      "text/plain": [
       "torch.Size([8, 50])"
      ]
     },
     "execution_count": 10,
     "metadata": {},
     "output_type": "execute_result"
    }
   ],
   "source": [
    "test_2[1].shape"
   ]
  },
  {
   "cell_type": "code",
   "execution_count": 7,
   "id": "dbac5d62-293a-467c-9a58-8791f11836ad",
   "metadata": {},
   "outputs": [
    {
     "data": {
      "text/plain": [
       "torch.Size([8, 50])"
      ]
     },
     "execution_count": 7,
     "metadata": {},
     "output_type": "execute_result"
    }
   ],
   "source": [
    "test_data['y'].shape"
   ]
  },
  {
   "cell_type": "code",
   "execution_count": 8,
   "id": "381e3a10-a01b-4604-bb32-1653cf6ee2d3",
   "metadata": {},
   "outputs": [
    {
     "data": {
      "text/plain": [
       "torch.Size([8, 144])"
      ]
     },
     "execution_count": 8,
     "metadata": {},
     "output_type": "execute_result"
    }
   ],
   "source": [
    "test_data['x'].shape"
   ]
  },
  {
   "cell_type": "code",
   "execution_count": null,
   "id": "7b8ed908-24e3-43e8-a9c6-ca80520f818a",
   "metadata": {},
   "outputs": [],
   "source": []
  },
  {
   "cell_type": "code",
   "execution_count": null,
   "id": "c5068b3c-0504-4d1a-81fc-e49205c88c76",
   "metadata": {},
   "outputs": [],
   "source": []
  },
  {
   "cell_type": "code",
   "execution_count": null,
   "id": "fce6cb84-f71a-4593-b147-9c53f434fe3c",
   "metadata": {},
   "outputs": [],
   "source": []
  }
 ],
 "metadata": {
  "kernelspec": {
   "display_name": "Python [conda env:diff]",
   "language": "python",
   "name": "conda-env-diff-py"
  },
  "language_info": {
   "codemirror_mode": {
    "name": "ipython",
    "version": 3
   },
   "file_extension": ".py",
   "mimetype": "text/x-python",
   "name": "python",
   "nbconvert_exporter": "python",
   "pygments_lexer": "ipython3",
   "version": "3.9.19"
  }
 },
 "nbformat": 4,
 "nbformat_minor": 5
}
