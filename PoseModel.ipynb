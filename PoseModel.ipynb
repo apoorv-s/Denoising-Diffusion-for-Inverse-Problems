{
 "cells": [
  {
   "cell_type": "code",
   "execution_count": 1,
   "id": "48707d4d-1d74-4e23-98ac-dc5883caa5ac",
   "metadata": {},
   "outputs": [],
   "source": [
    "%load_ext autoreload\n",
    "%autoreload 2"
   ]
  },
  {
   "cell_type": "code",
   "execution_count": 2,
   "id": "ac84deb9-a46c-4c1e-b44f-dadaad2f85c7",
   "metadata": {},
   "outputs": [],
   "source": [
    "import torch"
   ]
  },
  {
   "cell_type": "code",
   "execution_count": 5,
   "id": "c508b46d-bd34-4bb6-bf2a-9506ab62e643",
   "metadata": {},
   "outputs": [],
   "source": [
    "from Core.Dataset import PoseModelDataset\n",
    "from Configs.Configs import PoseTransformersConfig, PoseMLPConfig\n",
    "from Core.Utils import DDPM"
   ]
  },
  {
   "cell_type": "code",
   "execution_count": 18,
   "id": "85686a8e-d1a0-413b-9c8e-7d01813f6f0f",
   "metadata": {},
   "outputs": [],
   "source": [
    "config_mlp = PoseMLPConfig()\n",
    "config_transformer = PoseTransformersConfig()"
   ]
  },
  {
   "cell_type": "code",
   "execution_count": 14,
   "id": "46a82f4c-c4c4-421d-9652-97e79f30ca73",
   "metadata": {},
   "outputs": [
    {
     "name": "stdout",
     "output_type": "stream",
     "text": [
      "Number of sequences 14096\n"
     ]
    }
   ],
   "source": [
    "dataset = PoseModelDataset(config_transformer)"
   ]
  },
  {
   "cell_type": "code",
   "execution_count": 15,
   "id": "ea262f16-68a1-4741-9c65-3ba07ab9b3ec",
   "metadata": {},
   "outputs": [],
   "source": [
    "test = DDPM('pose_transformer')"
   ]
  },
  {
   "cell_type": "code",
   "execution_count": 19,
   "id": "eef25f92-b72c-43bb-b995-abe8ff741a5f",
   "metadata": {},
   "outputs": [
    {
     "name": "stdout",
     "output_type": "stream",
     "text": [
      "****** Training Initiated ******\n",
      "Run number: 5\n",
      "Config:\n",
      "    x_dim_1 = 24\n",
      "    x_dim_2 = 6\n",
      "    y_dim_1 = 25\n",
      "    y_dim_2 = 2\n",
      "    data_dir = './Data/PoseData'\n",
      "    smpl_model_dir = './SupportingFiles/SMPLModel/smpl/models/basicmodel_m_lbs_10_207_0_v1.1.0.pkl'\n",
      "    subset = 'full'\n",
      "    emb_dim = 256\n",
      "    kq_dim = 128\n",
      "    mlp_hid_dim = 256\n",
      "    n_x_attn = 4\n",
      "    n_y_attn = 4\n",
      "    n_xyt_attn = 4\n",
      "    n_heads = 8\n",
      "    mlp_act_fn = <class 'torch.nn.modules.activation.GELU'>\n",
      "    beta_range = (0.0001, 0.02)\n",
      "    diff_drop_prob = 0.1\n",
      "    n_time = 500\n",
      "    n_epochs = 500\n",
      "    n_epochs_bw_saves = 50\n",
      "    batch_size = 1024\n",
      "    n_workers = 4\n",
      "    lr = 0.0001\n",
      "    wt_decay = 0.001\n",
      "    save_dir = './Models/PoseTransformer'\n",
      "Number of sequences 14096\n"
     ]
    },
    {
     "name": "stderr",
     "output_type": "stream",
     "text": [
      "  0%|          | 0/500 [01:41<?, ?it/s]\n"
     ]
    },
    {
     "ename": "RuntimeError",
     "evalue": "The size of tensor a (8) must match the size of tensor b (1024) at non-singleton dimension 1",
     "output_type": "error",
     "traceback": [
      "\u001b[0;31m---------------------------------------------------------------------------\u001b[0m",
      "\u001b[0;31mRuntimeError\u001b[0m                              Traceback (most recent call last)",
      "Cell \u001b[0;32mIn[19], line 1\u001b[0m\n\u001b[0;32m----> 1\u001b[0m \u001b[43mtest\u001b[49m\u001b[38;5;241;43m.\u001b[39;49m\u001b[43mtrain\u001b[49m\u001b[43m(\u001b[49m\u001b[43mconfig_transformer\u001b[49m\u001b[43m,\u001b[49m\u001b[43m \u001b[49m\u001b[38;5;241;43m5\u001b[39;49m\u001b[43m)\u001b[49m\n",
      "File \u001b[0;32m~/CS236/DiffusionModel_InverseProblems/Core/Utils.py:108\u001b[0m, in \u001b[0;36mDDPM.train\u001b[0;34m(self, config, run_number)\u001b[0m\n\u001b[1;32m    106\u001b[0m inp_noise\u001b[38;5;241m=\u001b[39mtorch\u001b[38;5;241m.\u001b[39mrandn_like(data_x)\n\u001b[1;32m    107\u001b[0m inp_t_ind\u001b[38;5;241m=\u001b[39mtorch\u001b[38;5;241m.\u001b[39mrandint(\u001b[38;5;241m0\u001b[39m, config\u001b[38;5;241m.\u001b[39mn_time, (batch_size, \u001b[38;5;241m1\u001b[39m))\n\u001b[0;32m--> 108\u001b[0m inp_x \u001b[38;5;241m=\u001b[39m (\u001b[43mdata_x\u001b[49m\u001b[38;5;241;43m*\u001b[39;49m\u001b[43msqrt_alpha_bar\u001b[49m\u001b[43m[\u001b[49m\u001b[43minp_t_ind\u001b[49m\u001b[43m]\u001b[49m \u001b[38;5;241m+\u001b[39m inp_noise\u001b[38;5;241m*\u001b[39msqrt_om_alpha_bar[inp_t_ind])\u001b[38;5;241m.\u001b[39mto(device)\n\u001b[1;32m    109\u001b[0m inp_y \u001b[38;5;241m=\u001b[39m batch_data[\u001b[38;5;124m'\u001b[39m\u001b[38;5;124my\u001b[39m\u001b[38;5;124m'\u001b[39m]\u001b[38;5;241m.\u001b[39mto(device)\n\u001b[1;32m    110\u001b[0m inp_t \u001b[38;5;241m=\u001b[39m (inp_t_ind\u001b[38;5;241m/\u001b[39mconfig\u001b[38;5;241m.\u001b[39mn_time)\u001b[38;5;241m.\u001b[39mto(device)\n",
      "\u001b[0;31mRuntimeError\u001b[0m: The size of tensor a (8) must match the size of tensor b (1024) at non-singleton dimension 1"
     ]
    }
   ],
   "source": [
    "test.train(config_transformer, 5)"
   ]
  },
  {
   "cell_type": "code",
   "execution_count": null,
   "id": "7798ffcc-0624-41a6-a055-a94b944d6b6b",
   "metadata": {},
   "outputs": [],
   "source": []
  }
 ],
 "metadata": {
  "kernelspec": {
   "display_name": "Python [conda env:diff]",
   "language": "python",
   "name": "conda-env-diff-py"
  },
  "language_info": {
   "codemirror_mode": {
    "name": "ipython",
    "version": 3
   },
   "file_extension": ".py",
   "mimetype": "text/x-python",
   "name": "python",
   "nbconvert_exporter": "python",
   "pygments_lexer": "ipython3",
   "version": "3.9.19"
  }
 },
 "nbformat": 4,
 "nbformat_minor": 5
}
