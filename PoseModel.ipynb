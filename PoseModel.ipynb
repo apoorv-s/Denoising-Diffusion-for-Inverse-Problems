{
 "cells": [
  {
   "cell_type": "code",
   "execution_count": 1,
   "id": "48707d4d-1d74-4e23-98ac-dc5883caa5ac",
   "metadata": {},
   "outputs": [],
   "source": [
    "%load_ext autoreload\n",
    "%autoreload 2"
   ]
  },
  {
   "cell_type": "code",
   "execution_count": 2,
   "id": "ac84deb9-a46c-4c1e-b44f-dadaad2f85c7",
   "metadata": {},
   "outputs": [],
   "source": [
    "import os\n",
    "import numpy as np\n",
    "import torch\n",
    "from tqdm import trange\n",
    "\n",
    "from Core.Dataset import PoseModelDataset\n",
    "from Configs.Configs import PoseTransformersConfig\n",
    "from Core.DDPM import DDPM"
   ]
  },
  {
   "cell_type": "code",
   "execution_count": 3,
   "id": "6d9528ef",
   "metadata": {},
   "outputs": [
    {
     "name": "stdout",
     "output_type": "stream",
     "text": [
      "Number of sequences 14096\n"
     ]
    }
   ],
   "source": [
    "config = PoseTransformersConfig()\n",
    "dataset = PoseModelDataset(config)"
   ]
  },
  {
   "cell_type": "code",
   "execution_count": 4,
   "id": "999f7d93",
   "metadata": {},
   "outputs": [
    {
     "name": "stdout",
     "output_type": "stream",
     "text": [
      "<All keys matched successfully>\n"
     ]
    }
   ],
   "source": [
    "run_number = 1\n",
    "model_name = 'pose_transformer'\n",
    "\n",
    "model_dir = config.save_dir+\"/run\"+str(run_number)+\"/train\" + f\"/final_model_{499}.pt\"\n",
    "DDPM_obj = DDPM(model_name)\n",
    "DDPM_obj.load_pretrained_model(model_dir)"
   ]
  },
  {
   "cell_type": "code",
   "execution_count": 6,
   "id": "2ed75f6b",
   "metadata": {},
   "outputs": [
    {
     "name": "stderr",
     "output_type": "stream",
     "text": [
      "100%|██████████| 499/499 [00:43<00:00, 11.48it/s]\n"
     ]
    }
   ],
   "source": [
    "target_y = dataset[0]['y'][0]\n",
    "samples = DDPM_obj.sample(target_y, 5, 0.01)"
   ]
  },
  {
   "cell_type": "code",
   "execution_count": null,
   "id": "029c3ce7-0596-44ea-85a6-5abca1938a08",
   "metadata": {},
   "outputs": [],
   "source": []
  },
  {
   "cell_type": "code",
   "execution_count": null,
   "id": "a2d284dc-2e38-4824-99de-c9d072e85bd9",
   "metadata": {},
   "outputs": [],
   "source": []
  },
  {
   "cell_type": "code",
   "execution_count": null,
   "id": "5d349257-a942-4f43-ba8d-1361f04b74f3",
   "metadata": {},
   "outputs": [],
   "source": []
  },
  {
   "cell_type": "code",
   "execution_count": null,
   "id": "6a8b0e7c-6be6-4c8a-b6bf-410f04d6a0b0",
   "metadata": {},
   "outputs": [],
   "source": []
  },
  {
   "cell_type": "code",
   "execution_count": null,
   "id": "a8d6dec4-3f70-466f-879e-210bce591984",
   "metadata": {},
   "outputs": [],
   "source": []
  },
  {
   "cell_type": "code",
   "execution_count": null,
   "id": "f202caf1-0c27-4121-a4d3-03e7772bc358",
   "metadata": {},
   "outputs": [],
   "source": []
  },
  {
   "cell_type": "code",
   "execution_count": null,
   "id": "0550d8c2-e6f3-4e85-9673-4687b264baf3",
   "metadata": {},
   "outputs": [],
   "source": []
  }
 ],
 "metadata": {
  "kernelspec": {
   "display_name": "Python [conda env:diff]",
   "language": "python",
   "name": "conda-env-diff-py"
  },
  "language_info": {
   "codemirror_mode": {
    "name": "ipython",
    "version": 3
   },
   "file_extension": ".py",
   "mimetype": "text/x-python",
   "name": "python",
   "nbconvert_exporter": "python",
   "pygments_lexer": "ipython3",
   "version": "3.9.19"
  }
 },
 "nbformat": 4,
 "nbformat_minor": 5
}
